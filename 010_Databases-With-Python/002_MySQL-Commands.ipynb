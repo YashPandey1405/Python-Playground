{
 "cells": [
  {
   "cell_type": "code",
   "execution_count": 1,
   "metadata": {},
   "outputs": [],
   "source": [
    "from dotenv import load_dotenv\n",
    "import os\n",
    "import mysql.connector as conn\n",
    "\n",
    "# Load environment variables from the .env file\n",
    "load_dotenv()\n",
    "\n",
    "password = os.getenv(\"MYSQL_PASSWORD\")\n",
    "\n",
    "mydb = conn.connect(host=\"localhost\", user=\"root\", passwd=password)"
   ]
  },
  {
   "cell_type": "code",
   "execution_count": 2,
   "metadata": {},
   "outputs": [
    {
     "data": {
      "text/plain": [
       "True"
      ]
     },
     "execution_count": 2,
     "metadata": {},
     "output_type": "execute_result"
    }
   ],
   "source": [
    "cursor = mydb.cursor()\n",
    "\n",
    "cursor.execute(\"USE AIML\")\n",
    "cursor.execute(\"SHOW TABLES\")\n",
    "cursor.fetchall()\n",
    "\n",
    "# Close the cursor\n",
    "cursor.close()"
   ]
  },
  {
   "cell_type": "code",
   "execution_count": 3,
   "metadata": {},
   "outputs": [],
   "source": [
    "cursor = mydb.cursor()\n",
    "\n",
    "# Create a table in the AIML database\n",
    "cursor.execute(\"\"\"\n",
    "INSERT INTO students VALUES(10001,\"Yash Pandey\",21)\n",
    "\"\"\")\n",
    "\n",
    "# Close the cursor\n",
    "cursor.close()\n",
    "mydb.commit()"
   ]
  },
  {
   "cell_type": "code",
   "execution_count": 5,
   "metadata": {},
   "outputs": [
    {
     "data": {
      "text/plain": [
       "[(10001, 'Yash Pandey', 21)]"
      ]
     },
     "execution_count": 5,
     "metadata": {},
     "output_type": "execute_result"
    }
   ],
   "source": [
    "cursor = mydb.cursor()\n",
    "\n",
    "# Create a table in the AIML database\n",
    "cursor.execute(\"\"\"\n",
    "SELECT * FROM students \n",
    "\"\"\")\n",
    "cursor.fetchall()\n"
   ]
  }
 ],
 "metadata": {
  "kernelspec": {
   "display_name": "Python 3",
   "language": "python",
   "name": "python3"
  },
  "language_info": {
   "codemirror_mode": {
    "name": "ipython",
    "version": 3
   },
   "file_extension": ".py",
   "mimetype": "text/x-python",
   "name": "python",
   "nbconvert_exporter": "python",
   "pygments_lexer": "ipython3",
   "version": "3.12.7"
  }
 },
 "nbformat": 4,
 "nbformat_minor": 2
}
