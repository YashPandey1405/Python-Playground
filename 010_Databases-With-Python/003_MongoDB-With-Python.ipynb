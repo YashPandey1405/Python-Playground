{
 "cells": [
  {
   "cell_type": "code",
   "execution_count": 1,
   "metadata": {},
   "outputs": [
    {
     "name": "stdout",
     "output_type": "stream",
     "text": [
      "Defaulting to user installation because normal site-packages is not writeable\n",
      "Collecting pymongo==3.11 (from pymongo[srv]==3.11)\n",
      "  Downloading pymongo-3.11.0.tar.gz (771 kB)\n",
      "     ---------------------------------------- 0.0/771.7 kB ? eta -:--:--\n",
      "     ------------------------------------- 771.7/771.7 kB 15.9 MB/s eta 0:00:00\n",
      "  Installing build dependencies: started\n",
      "  Installing build dependencies: finished with status 'done'\n",
      "  Getting requirements to build wheel: started\n",
      "  Getting requirements to build wheel: finished with status 'done'\n",
      "  Preparing metadata (pyproject.toml): started\n",
      "  Preparing metadata (pyproject.toml): finished with status 'done'\n",
      "Collecting dnspython<2.0.0,>=1.16.0 (from pymongo[srv]==3.11)\n",
      "  Downloading dnspython-1.16.0-py2.py3-none-any.whl.metadata (1.8 kB)\n",
      "Downloading dnspython-1.16.0-py2.py3-none-any.whl (188 kB)\n",
      "Building wheels for collected packages: pymongo\n",
      "  Building wheel for pymongo (pyproject.toml): started\n",
      "  Building wheel for pymongo (pyproject.toml): finished with status 'done'\n",
      "  Created wheel for pymongo: filename=pymongo-3.11.0-cp312-cp312-win_amd64.whl size=344311 sha256=c4ae6b49999b1520779b9d8a9d41a1bd195e4e8facaa9484d60bec8574a74ba1\n",
      "  Stored in directory: c:\\users\\isha pandey\\appdata\\local\\pip\\cache\\wheels\\48\\88\\89\\88b1e7fa2c598b317d4b3db6c9e4a9041ab8634b3e1019a021\n",
      "Successfully built pymongo\n",
      "Installing collected packages: pymongo, dnspython\n",
      "Successfully installed dnspython-1.16.0 pymongo-3.11.0\n",
      "Note: you may need to restart the kernel to use updated packages.\n"
     ]
    },
    {
     "name": "stderr",
     "output_type": "stream",
     "text": [
      "\n",
      "[notice] A new release of pip is available: 24.2 -> 25.0\n",
      "[notice] To update, run: python.exe -m pip install --upgrade pip\n"
     ]
    }
   ],
   "source": [
    "pip install \"pymongo[srv]\"==3.11"
   ]
  },
  {
   "cell_type": "code",
   "execution_count": 1,
   "metadata": {},
   "outputs": [],
   "source": [
    "from dotenv import load_dotenv\n",
    "import os\n",
    "# Load environment variables from the .env file\n",
    "load_dotenv()\n",
    "password = os.getenv(\"MONGODB_PASSWORD\")"
   ]
  },
  {
   "cell_type": "code",
   "execution_count": 2,
   "metadata": {},
   "outputs": [],
   "source": [
    "import pymongo"
   ]
  },
  {
   "cell_type": "code",
   "execution_count": 3,
   "metadata": {},
   "outputs": [],
   "source": [
    "client=pymongo.MongoClient(password)"
   ]
  },
  {
   "cell_type": "code",
   "execution_count": 4,
   "metadata": {},
   "outputs": [
    {
     "data": {
      "text/plain": [
       "MongoClient(host=['cluster0-shard-00-02.nnoei.mongodb.net:27017', 'cluster0-shard-00-00.nnoei.mongodb.net:27017', 'cluster0-shard-00-01.nnoei.mongodb.net:27017'], document_class=dict, tz_aware=False, connect=True, retrywrites=True, w='majority', appname='Cluster0', authsource='admin', replicaset='atlas-cc2vs4-shard-0', ssl=True)"
      ]
     },
     "execution_count": 4,
     "metadata": {},
     "output_type": "execute_result"
    }
   ],
   "source": [
    "client"
   ]
  },
  {
   "cell_type": "code",
   "execution_count": 5,
   "metadata": {},
   "outputs": [],
   "source": [
    "db=client[\"YashPandeyDB\"]"
   ]
  },
  {
   "cell_type": "code",
   "execution_count": 6,
   "metadata": {},
   "outputs": [],
   "source": [
    "collection_Create=db[\"my_record\"]"
   ]
  },
  {
   "cell_type": "code",
   "execution_count": 7,
   "metadata": {},
   "outputs": [
    {
     "data": {
      "text/plain": [
       "<pymongo.results.InsertOneResult at 0x1ac9c0a28c0>"
      ]
     },
     "execution_count": 7,
     "metadata": {},
     "output_type": "execute_result"
    }
   ],
   "source": [
    "sample_document = {\n",
    "    \"name\": \"John Doe\",\n",
    "    \"age\": 28,\n",
    "    \"email\": \"johndoe@example.com\",\n",
    "    \"address\": {\n",
    "        \"street\": \"123 Main St\",\n",
    "        \"city\": \"Springfield\",\n",
    "        \"zip\": \"12345\"\n",
    "    },\n",
    "    \"hobbies\": [\"reading\", \"travelling\", \"coding\"]\n",
    "}\n",
    "collection_Create.insert_one(sample_document)"
   ]
  },
  {
   "cell_type": "code",
   "execution_count": 8,
   "metadata": {},
   "outputs": [
    {
     "data": {
      "text/plain": [
       "<pymongo.results.InsertOneResult at 0x1ac9c467440>"
      ]
     },
     "execution_count": 8,
     "metadata": {},
     "output_type": "execute_result"
    }
   ],
   "source": [
    "\n",
    "user_profile = {\n",
    "    \"username\": \"jane_doe\",\n",
    "    \"password\": \"securepassword123\",\n",
    "    \"email\": \"jane.doe@example.com\",\n",
    "    \"is_active\": True,\n",
    "    \"created_at\": \"2025-01-27T10:00:00Z\"\n",
    "}\n",
    "collection_Create.insert_one(user_profile)"
   ]
  },
  {
   "cell_type": "code",
   "execution_count": 9,
   "metadata": {},
   "outputs": [
    {
     "data": {
      "text/plain": [
       "<pymongo.results.InsertManyResult at 0x1ac9c0a2840>"
      ]
     },
     "execution_count": 9,
     "metadata": {},
     "output_type": "execute_result"
    }
   ],
   "source": [
    "sample_documents = [\n",
    "    {\n",
    "        \"name\": \"Alice Smith\",\n",
    "        \"age\": 24,\n",
    "        \"email\": \"alice.smith@example.com\",\n",
    "        \"address\": {\n",
    "            \"street\": \"456 Elm St\",\n",
    "            \"city\": \"Metropolis\",\n",
    "            \"zip\": \"67890\"\n",
    "        },\n",
    "        \"hobbies\": [\"painting\", \"swimming\"]\n",
    "    },\n",
    "    {\n",
    "        \"name\": \"Bob Johnson\",\n",
    "        \"age\": 32,\n",
    "        \"email\": \"bob.johnson@example.com\",\n",
    "        \"address\": {\n",
    "            \"street\": \"789 Pine St\",\n",
    "            \"city\": \"Gotham\",\n",
    "            \"zip\": \"11223\"\n",
    "        },\n",
    "        \"hobbies\": [\"cycling\", \"hiking\"]\n",
    "    },\n",
    "    {\n",
    "        \"name\": \"Charlie Brown\",\n",
    "        \"age\": 29,\n",
    "        \"email\": \"charlie.brown@example.com\",\n",
    "        \"address\": {\n",
    "            \"street\": \"101 Maple St\",\n",
    "            \"city\": \"Star City\",\n",
    "            \"zip\": \"44556\"\n",
    "        },\n",
    "        \"hobbies\": [\"gaming\", \"photography\"]\n",
    "    }\n",
    "]\n",
    "collection_Create.insert_many(sample_documents)"
   ]
  },
  {
   "cell_type": "code",
   "execution_count": 10,
   "metadata": {},
   "outputs": [
    {
     "name": "stdout",
     "output_type": "stream",
     "text": [
      "{'_id': ObjectId('6797c6f3c401b8f5eda0588f'), 'name': 'John Doe', 'age': 28, 'email': 'johndoe@example.com', 'address': {'street': '123 Main St', 'city': 'Springfield', 'zip': '12345'}, 'hobbies': ['reading', 'travelling', 'coding']}\n",
      "{'_id': ObjectId('6797c761c401b8f5eda05890'), 'username': 'jane_doe', 'password': 'securepassword123', 'email': 'jane.doe@example.com', 'is_active': True, 'created_at': '2025-01-27T10:00:00Z'}\n",
      "{'_id': ObjectId('6797c7aac401b8f5eda05891'), 'name': 'Alice Smith', 'age': 24, 'email': 'alice.smith@example.com', 'address': {'street': '456 Elm St', 'city': 'Metropolis', 'zip': '67890'}, 'hobbies': ['painting', 'swimming']}\n",
      "{'_id': ObjectId('6797c7aac401b8f5eda05892'), 'name': 'Bob Johnson', 'age': 32, 'email': 'bob.johnson@example.com', 'address': {'street': '789 Pine St', 'city': 'Gotham', 'zip': '11223'}, 'hobbies': ['cycling', 'hiking']}\n",
      "{'_id': ObjectId('6797c7aac401b8f5eda05893'), 'name': 'Charlie Brown', 'age': 29, 'email': 'charlie.brown@example.com', 'address': {'street': '101 Maple St', 'city': 'Star City', 'zip': '44556'}, 'hobbies': ['gaming', 'photography']}\n"
     ]
    }
   ],
   "source": [
    "for i in collection_Create.find():\n",
    "    print(i)"
   ]
  },
  {
   "cell_type": "code",
   "execution_count": 11,
   "metadata": {},
   "outputs": [
    {
     "data": {
      "text/plain": [
       "{'_id': ObjectId('6797c6f3c401b8f5eda0588f'),\n",
       " 'name': 'John Doe',\n",
       " 'age': 28,\n",
       " 'email': 'johndoe@example.com',\n",
       " 'address': {'street': '123 Main St', 'city': 'Springfield', 'zip': '12345'},\n",
       " 'hobbies': ['reading', 'travelling', 'coding']}"
      ]
     },
     "execution_count": 11,
     "metadata": {},
     "output_type": "execute_result"
    }
   ],
   "source": [
    "collection_Create.find_one()"
   ]
  },
  {
   "cell_type": "code",
   "execution_count": 12,
   "metadata": {},
   "outputs": [
    {
     "name": "stdout",
     "output_type": "stream",
     "text": [
      "{'_id': ObjectId('6797c6f3c401b8f5eda0588f'), 'name': 'John Doe', 'age': 28, 'email': 'johndoe@example.com', 'address': {'street': '123 Main St', 'city': 'Springfield', 'zip': '12345'}, 'hobbies': ['reading', 'travelling', 'coding']}\n"
     ]
    }
   ],
   "source": [
    "for i in collection_Create.find({'name': 'John Doe'}):\n",
    "    print(i)"
   ]
  },
  {
   "cell_type": "code",
   "execution_count": 13,
   "metadata": {},
   "outputs": [
    {
     "data": {
      "text/plain": [
       "<pymongo.results.UpdateResult at 0x1ac9c47e040>"
      ]
     },
     "execution_count": 13,
     "metadata": {},
     "output_type": "execute_result"
    }
   ],
   "source": [
    "collection_Create.update_many(\n",
    "    {'companyName': 'pw skills'},  # Query filter\n",
    "    {\"$set\": {'companyName': 'pw skills'}}  # Update operation\n",
    ")\n"
   ]
  }
 ],
 "metadata": {
  "kernelspec": {
   "display_name": "Python 3",
   "language": "python",
   "name": "python3"
  },
  "language_info": {
   "codemirror_mode": {
    "name": "ipython",
    "version": 3
   },
   "file_extension": ".py",
   "mimetype": "text/x-python",
   "name": "python",
   "nbconvert_exporter": "python",
   "pygments_lexer": "ipython3",
   "version": "3.12.7"
  }
 },
 "nbformat": 4,
 "nbformat_minor": 2
}
